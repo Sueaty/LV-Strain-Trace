{
  "nbformat": 4,
  "nbformat_minor": 0,
  "metadata": {
    "colab": {
      "name": "lv_strain_trace.ipynb",
      "private_outputs": true,
      "provenance": []
    },
    "kernelspec": {
      "name": "python3",
      "display_name": "Python 3"
    }
  },
  "cells": [
    {
      "cell_type": "code",
      "metadata": {
        "id": "w8LV4sfUMp6V"
      },
      "source": [
        "from google.colab import drive\n",
        "import pandas as pd\n",
        "import plotly.express as px\n",
        "import plotly.io as pio\n",
        "import plotly.graph_objs as go\n",
        "\n",
        "drive.mount('/content/gdrive/')"
      ],
      "execution_count": null,
      "outputs": []
    },
    {
      "cell_type": "code",
      "metadata": {
        "id": "rI1EFMaJwf_O"
      },
      "source": [
        "df1 = pd.read_csv('/content/gdrive/MyDrive/python_lv_strain_track/3d_in_csv.csv')\n",
        "df2 = pd.read_csv('/content/gdrive/MyDrive/python_lv_strain_track/GlobalCoord_in_csv.csv')\n",
        "\n",
        "# add time column to df2\n",
        "df2['time'] = 0"
      ],
      "execution_count": null,
      "outputs": []
    },
    {
      "cell_type": "code",
      "metadata": {
        "id": "f476CCcMUO1y"
      },
      "source": [
        "df2.head()"
      ],
      "execution_count": null,
      "outputs": []
    },
    {
      "cell_type": "code",
      "metadata": {
        "id": "kBbv2p5tzXoE"
      },
      "source": [
        "time_stamp = []\n",
        "for time in df1.columns:\n",
        "    if time != 'time_stamps':\n",
        "        time_stamp.append(time)\n",
        "\n",
        "time_stamp = time_stamp[1:]"
      ],
      "execution_count": null,
      "outputs": []
    },
    {
      "cell_type": "code",
      "metadata": {
        "id": "M-gm_hAXzbDb"
      },
      "source": [
        "print(time_stamp)"
      ],
      "execution_count": null,
      "outputs": []
    },
    {
      "cell_type": "code",
      "metadata": {
        "id": "ja7r8Lcl1XBq"
      },
      "source": [
        "position = df2['Unnamed: 0'].to_list()\n",
        "print(position)"
      ],
      "execution_count": null,
      "outputs": []
    },
    {
      "cell_type": "code",
      "metadata": {
        "id": "m2Hh2gEB8le6"
      },
      "source": [
        "#Initial View\n",
        "\n",
        "fig = px.scatter_3d(data_frame= df2, \n",
        "                    x= 'x', \n",
        "                    y= 'y', \n",
        "                    z= 'z',\n",
        "                    color= \"segment\",\n",
        "                    color_discrete_map= {'basal': 'red', 'mid': 'blue', 'apical': 'green', 'apex': 'black'},\n",
        "                    opacity= 0.5,\n",
        "                    template= 'seaborn',\n",
        "                    range_z= [-1, 5],\n",
        "                    height= 600)\n",
        "pio.show(fig)"
      ],
      "execution_count": null,
      "outputs": []
    },
    {
      "cell_type": "code",
      "metadata": {
        "id": "PRItAv5U-kAb"
      },
      "source": [
        "longtitude = pd.read_csv('/content/gdrive/MyDrive/python_lv_strain_track/LongitudinalStrain_in_csv.csv')\n",
        "radial = pd.read_csv('/content/gdrive/MyDrive/python_lv_strain_track/RadialStrain_in_csv.csv')\n",
        "circum = pd.read_csv('/content/gdrive/MyDrive/python_lv_strain_track/CircumfrentialStrain_in_csv.csv')"
      ],
      "execution_count": null,
      "outputs": []
    },
    {
      "cell_type": "code",
      "metadata": {
        "id": "53kqDZ0L_Gyh"
      },
      "source": [
        "circum.head()"
      ],
      "execution_count": null,
      "outputs": []
    },
    {
      "cell_type": "code",
      "metadata": {
        "id": "zoFX3ct-aJWm"
      },
      "source": [
        "longtitude.head()"
      ],
      "execution_count": null,
      "outputs": []
    },
    {
      "cell_type": "code",
      "metadata": {
        "id": "s1CiNf6laMw8"
      },
      "source": [
        "radial.head()"
      ],
      "execution_count": null,
      "outputs": []
    },
    {
      "cell_type": "code",
      "metadata": {
        "id": "Z2MNPwn2ZAUp"
      },
      "source": [
        "segment = ['basal', 'basal', 'basal', 'basal', 'basal', 'mid', 'mid', 'mid', 'mid', 'mid', 'mid', 'apical', 'apical', 'apical', 'apical', 'apex']"
      ],
      "execution_count": null,
      "outputs": []
    },
    {
      "cell_type": "code",
      "metadata": {
        "id": "FDo5aT94SNhm"
      },
      "source": [
        "longtitude['6.26'].to_list()[1:]"
      ],
      "execution_count": null,
      "outputs": []
    },
    {
      "cell_type": "code",
      "metadata": {
        "id": "1co3UiBZZXVn"
      },
      "source": [
        "for time in time_stamp:\n",
        "    #x축(longtitude) 값 보정\n",
        "    coord_x = longtitude[time].to_list()[1:]\n",
        "    coord_x_edit = [x * 10 for x in coord_x]\n",
        "\n",
        "    #y축(circum) 값 보정\n",
        "    coord_y = circum[time].to_list()[1:]\n",
        "    coord_y_edit = [y * 10 for y in coord_y]\n",
        "\n",
        "    #z축(radial) 값 보정\n",
        "    coord_z = radial[time].to_list()[1:]\n",
        "    coord_z_edit = [z * 10 for z in coord_z]\n",
        "\n",
        "    for idx in range(len(position)):\n",
        "        df2 = df2.append({\n",
        "            'Unnamed: 0': position[idx],\n",
        "            'global_x': 0,\n",
        "            'global_y': 0,\n",
        "            'global_z': 0,\n",
        "            'x': coord_x_edit[idx],\n",
        "            'y': coord_y_edit[idx],\n",
        "            'z': coord_z_edit[idx],\n",
        "            'segment': segment[idx],\n",
        "            'time': time\n",
        "        }, ignore_index= True)\n"
      ],
      "execution_count": null,
      "outputs": []
    },
    {
      "cell_type": "code",
      "metadata": {
        "id": "Od8x37hFGnqi"
      },
      "source": [
        "fig = px.scatter_3d(data_frame= df2, \n",
        "                    x= 'x', \n",
        "                    y= 'y', \n",
        "                    z= 'z',\n",
        "                    color= \"segment\",\n",
        "                    color_discrete_map= {'basal': 'red', 'mid': 'blue', 'apical': 'green', 'apex': 'black'},\n",
        "                    opacity= 0.5,\n",
        "                    template= 'seaborn',\n",
        "                    hover_name= 'Unnamed: 0',\n",
        "                    animation_frame= 'time',\n",
        "                    labels= {\n",
        "                        'x': \"Longitudinal Strain\",\n",
        "                        'y': \"Circumferential Strain\",\n",
        "                        'z': \"Radial Strain\"\n",
        "                    },\n",
        "                    range_x = [-4, 1],\n",
        "                    range_y = [-4, 1],\n",
        "                    range_z = [-1, 10],\n",
        "                    width = 1000)\n",
        "\n",
        "fig.update_layout(\n",
        "    scene= dict(aspectmode=\"cube\")\n",
        ")\n",
        "\n",
        "pio.show(fig)"
      ],
      "execution_count": null,
      "outputs": []
    },
    {
      "cell_type": "code",
      "metadata": {
        "id": "mscOBx8WG8gm"
      },
      "source": [
        "print(min(df2['x']))\n",
        "print(max(df2['x']))"
      ],
      "execution_count": null,
      "outputs": []
    },
    {
      "cell_type": "code",
      "metadata": {
        "id": "RgsNISX6MVEd"
      },
      "source": [
        "print(min(df2['y']))\n",
        "print(max(df2['y']))"
      ],
      "execution_count": null,
      "outputs": []
    },
    {
      "cell_type": "code",
      "metadata": {
        "id": "pOFqyW74Pn2Z"
      },
      "source": [
        "print(min(df2['z']))\n",
        "print(max(df2['z']))"
      ],
      "execution_count": null,
      "outputs": []
    },
    {
      "cell_type": "code",
      "metadata": {
        "id": "vRuCL9pAwHct"
      },
      "source": [
        "df2.tail()"
      ],
      "execution_count": null,
      "outputs": []
    },
    {
      "cell_type": "code",
      "metadata": {
        "id": "ZxRraC9FMtP_"
      },
      "source": [
        "fig2 = px.scatter(data_frame= df2,\n",
        "                 x= 'x',\n",
        "                 y= 'y',\n",
        "                 color= 'segment',\n",
        "                 color_discrete_map= {'basal': 'red', 'mid': 'blue', 'apical': 'green', 'apex': 'black'},\n",
        "                 opacity= 0.5,\n",
        "                 size_max= 100,\n",
        "                 range_x= [-4, 1],\n",
        "                range_y= [-3, 1],\n",
        "                 template= 'seaborn',\n",
        "                 animation_frame= 'time'\n",
        "                 )\n",
        "\n",
        "pio.show(fig2)"
      ],
      "execution_count": null,
      "outputs": []
    },
    {
      "cell_type": "code",
      "metadata": {
        "id": "ZKRgqB8IQkI9"
      },
      "source": [
        ""
      ],
      "execution_count": null,
      "outputs": []
    }
  ]
}
