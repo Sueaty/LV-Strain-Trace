{
  "nbformat": 4,
  "nbformat_minor": 0,
  "metadata": {
    "colab": {
      "name": "lv_strain_trace.ipynb",
      "private_outputs": true,
      "provenance": [],
      "authorship_tag": "ABX9TyNxBf8+08rJwfJ274o7qnat",
      "include_colab_link": true
    },
    "kernelspec": {
      "name": "python3",
      "display_name": "Python 3"
    }
  },
  "cells": [
    {
      "cell_type": "markdown",
      "metadata": {
        "id": "view-in-github",
        "colab_type": "text"
      },
      "source": [
        "<a href=\"https://colab.research.google.com/github/Sueaty/LV-Strain-Trace/blob/main/lv_strain_trace.ipynb\" target=\"_parent\"><img src=\"https://colab.research.google.com/assets/colab-badge.svg\" alt=\"Open In Colab\"/></a>"
      ]
    },
    {
      "cell_type": "code",
      "metadata": {
        "id": "w8LV4sfUMp6V"
      },
      "source": [
        "from google.colab import drive\n",
        "import pandas as pd\n",
        "import plotly.express as px\n",
        "import plotly.io as pio\n",
        "import plotly.graph_objs as go\n",
        "\n",
        "drive.mount('/content/gdrive/')"
      ],
      "execution_count": null,
      "outputs": []
    },
    {
      "cell_type": "code",
      "metadata": {
        "id": "rI1EFMaJwf_O"
      },
      "source": [
        "df1 = pd.read_csv('/content/gdrive/MyDrive/python_lv_strain_track/3d_in_csv.csv')\n",
        "df2 = pd.read_csv('/content/gdrive/MyDrive/python_lv_strain_track/GlobalCoord _in_csv.csv')\n",
        "\n",
        "# add time column to df2\n",
        "df2['time'] = 0"
      ],
      "execution_count": null,
      "outputs": []
    },
    {
      "cell_type": "code",
      "metadata": {
        "id": "IbtFQ-WezWFO"
      },
      "source": [
        "df1.head()"
      ],
      "execution_count": null,
      "outputs": []
    },
    {
      "cell_type": "code",
      "metadata": {
        "id": "fthgRGkQ-sGu"
      },
      "source": [
        "df2.head()"
      ],
      "execution_count": null,
      "outputs": []
    },
    {
      "cell_type": "code",
      "metadata": {
        "id": "kBbv2p5tzXoE"
      },
      "source": [
        "time_stamp = []\n",
        "for time in df1.columns:\n",
        "    if time != 'time_stamps':\n",
        "        time_stamp.append(time)\n",
        "\n",
        "time_stamp = time_stamp[1:]"
      ],
      "execution_count": null,
      "outputs": []
    },
    {
      "cell_type": "code",
      "metadata": {
        "id": "M-gm_hAXzbDb"
      },
      "source": [
        "print(time_stamp)"
      ],
      "execution_count": null,
      "outputs": []
    },
    {
      "cell_type": "code",
      "metadata": {
        "id": "ja7r8Lcl1XBq"
      },
      "source": [
        "position = df2['Unnamed: 0'].to_list()\n",
        "print(position)"
      ],
      "execution_count": null,
      "outputs": []
    },
    {
      "cell_type": "code",
      "metadata": {
        "id": "m2Hh2gEB8le6"
      },
      "source": [
        "#Initial View\n",
        "\n",
        "fig = px.scatter_3d(data_frame= df2, \n",
        "                    x= 'x', \n",
        "                    y= 'y', \n",
        "                    z= 'z',\n",
        "                    color= \"segment\",\n",
        "                    color_discrete_map= {'basal': 'red', 'mid': 'blue', 'apical': 'green', 'apex': 'black'},\n",
        "                    opacity= 0.5,\n",
        "                    template= 'seaborn',\n",
        "                    range_z= [-1, 5],\n",
        "                    height= 600)\n",
        "pio.show(fig)"
      ],
      "execution_count": null,
      "outputs": []
    },
    {
      "cell_type": "code",
      "metadata": {
        "id": "PRItAv5U-kAb"
      },
      "source": [
        "longtitude = pd.read_csv('/content/gdrive/MyDrive/python_lv_strain_track/LongitudinalStrain_in_csv.csv')\n",
        "radial = pd.read_csv('/content/gdrive/MyDrive/python_lv_strain_track/RadialStrain_in_csv.csv')"
      ],
      "execution_count": null,
      "outputs": []
    },
    {
      "cell_type": "code",
      "metadata": {
        "id": "53kqDZ0L_Gyh"
      },
      "source": [
        "longtitude.head()"
      ],
      "execution_count": null,
      "outputs": []
    },
    {
      "cell_type": "code",
      "metadata": {
        "id": "j32Mouc6D5e8"
      },
      "source": [
        "df2.head()"
      ],
      "execution_count": null,
      "outputs": []
    },
    {
      "cell_type": "code",
      "metadata": {
        "id": "98uFLs54GM47"
      },
      "source": [
        "segment = ['basal', 'basal', 'basal', 'basal', 'basal', 'mid', 'mid', 'mid', 'mid', 'mid', 'mid', 'apical', 'apical', 'apical', 'apical', 'apex']"
      ],
      "execution_count": null,
      "outputs": []
    },
    {
      "cell_type": "code",
      "metadata": {
        "id": "x6Nrlq-O_INU"
      },
      "source": [
        "# z축 값\n",
        "z = [3, 3, 3, 3, 3, 2, 2, 2, 2, 2, 2, 1, 1, 1, 1, 0]\n",
        "\n",
        "prev_x = df2['x'].to_list()\n",
        "prev_y = df2['y'].to_list()\n",
        "\n",
        "for time in time_stamp:\n",
        "    # x축 값 변경\n",
        "    r_shrink = radial[time].to_list()[1:] # Global은 제외하게 됨\n",
        "    r_shrink_edit = r_shrink #[r * 10 for r in r_shrink] # 수축값 *100으로 값 보정\n",
        "    update_x = []\n",
        "    for idx in range(len(prev_x)):\n",
        "        val = prev_x[idx] + r_shrink_edit[idx]\n",
        "        update_x.append(val)\n",
        "    prev_x = update_x\n",
        "\n",
        "    # y축 값 변경\n",
        "    l_shrink = longtitude[time].to_list()[1:] #Global은 제외하게 됨\n",
        "    l_shrink_edit = l_shrink #[l * 10 for l in l_shrink] # 수축값 *100으로 값 보정\n",
        "    update_y = []\n",
        "    for idx in range(len(prev_y)):\n",
        "        val = prev_y[idx] + l_shrink_edit[idx]\n",
        "        update_y.append(val)\n",
        "    prev_y = update_y\n",
        "\n",
        "    for idx in range(len(position)):\n",
        "        df2 = df2.append({\n",
        "            'Unnamed: 0': position[idx],\n",
        "            'global_x': 0,\n",
        "            'global_y': 0,\n",
        "            'global_z': 0,\n",
        "            'x': update_x[idx],\n",
        "            'y': update_y[idx],\n",
        "            'z': z[idx],\n",
        "            'segment': segment[idx],\n",
        "            'time': time\n",
        "        }, ignore_index= True)\n",
        "    \n"
      ],
      "execution_count": null,
      "outputs": []
    },
    {
      "cell_type": "code",
      "metadata": {
        "id": "Od8x37hFGnqi"
      },
      "source": [
        "fig = px.scatter_3d(data_frame= df2, \n",
        "                    x= 'x', \n",
        "                    y= 'y', \n",
        "                    z= 'z',\n",
        "                    color= \"segment\",\n",
        "                    color_discrete_map= {'basal': 'red', 'mid': 'blue', 'apical': 'green', 'apex': 'black'},\n",
        "                    opacity= 0.5,\n",
        "                    template= 'seaborn',\n",
        "                    hover_name= 'Unnamed: 0',\n",
        "                    animation_frame= 'time',\n",
        "                    #animation_group= 'segment',\n",
        "                    range_z= [-1, 4],\n",
        "                    height= 800)\n",
        "pio.show(fig)"
      ],
      "execution_count": null,
      "outputs": []
    },
    {
      "cell_type": "code",
      "metadata": {
        "id": "mscOBx8WG8gm"
      },
      "source": [
        "print(max(df2['x']))\n",
        "print(max(df2['y']))\n",
        "print()\n",
        "print(min(df2['x']))\n",
        "print(min(df2['y'])) "
      ],
      "execution_count": null,
      "outputs": []
    },
    {
      "cell_type": "code",
      "metadata": {
        "id": "RgsNISX6MVEd"
      },
      "source": [
        "print(max(df2['x']))\n",
        "print(max(df2['y']))\n",
        "print()\n",
        "print(min(df2['x']))\n",
        "print(min(df2['y'])) "
      ],
      "execution_count": null,
      "outputs": []
    },
    {
      "cell_type": "code",
      "metadata": {
        "id": "pOFqyW74Pn2Z"
      },
      "source": [
        ""
      ],
      "execution_count": null,
      "outputs": []
    }
  ]
}